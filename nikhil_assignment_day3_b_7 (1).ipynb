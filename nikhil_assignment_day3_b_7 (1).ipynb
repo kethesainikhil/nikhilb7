{
  "nbformat": 4,
  "nbformat_minor": 0,
  "metadata": {
    "colab": {
      "name": "nikhil assignment day3 b-7.ipynb",
      "provenance": []
    },
    "kernelspec": {
      "name": "python3",
      "display_name": "Python 3"
    }
  },
  "cells": [
    {
      "cell_type": "code",
      "metadata": {
        "id": "fewtTsrRxiM8",
        "colab_type": "code",
        "colab": {
          "base_uri": "https://localhost:8080/",
          "height": 50
        },
        "outputId": "c5a91a14-c024-41c1-eaa0-a6a8d5afa97c"
      },
      "source": [
        "n = int(input(\"enter any number between 1 - 200\"))\n",
        "for i in range(2,n):\n",
        "  if n%i==0:\n",
        "    print(\"The Number you entered is not prime  \")\n",
        "    break\n",
        "else:\n",
        "    print(\"The number you entered is prime\")"
      ],
      "execution_count": 15,
      "outputs": [
        {
          "output_type": "stream",
          "text": [
            "enter any number between 1 - 20023\n",
            "The number you entered is prime\n"
          ],
          "name": "stdout"
        }
      ]
    },
    {
      "cell_type": "code",
      "metadata": {
        "id": "2iIEdzUiybKS",
        "colab_type": "code",
        "colab": {}
      },
      "source": [
        "# i used for else concept and also from \"break\" concept i cracked that unlimited times printing same \n",
        "# i used 1 in range but it is printing wrong sir so i used from 2 beause 1 is neither prime nor composite\n"
      ],
      "execution_count": 16,
      "outputs": []
    },
    {
      "cell_type": "code",
      "metadata": {
        "id": "2P5nn24u1B5M",
        "colab_type": "code",
        "colab": {
          "base_uri": "https://localhost:8080/",
          "height": 50
        },
        "outputId": "b9911b83-54fb-49c1-9be8-cd215d8e435e"
      },
      "source": [
        "x = int(input(\"Enter the altitiude\"))\n",
        "if x<=1000:\n",
        "  print(\"pilot you can land the plane\")\n",
        "elif x<=5000:\n",
        "  print(\"pilot you need to decrase the altitude to 1000ft\")\n",
        "else:\n",
        "  print(\"pilot please go around and try later\")\n",
        "\n"
      ],
      "execution_count": 23,
      "outputs": [
        {
          "output_type": "stream",
          "text": [
            "Enter the altitiude50099\n",
            "pilot please go around and try later\n"
          ],
          "name": "stdout"
        }
      ]
    },
    {
      "cell_type": "code",
      "metadata": {
        "id": "T8-uJdc82ayj",
        "colab_type": "code",
        "colab": {}
      },
      "source": [
        ""
      ],
      "execution_count": null,
      "outputs": []
    }
  ]
}